{
  "cells": [
    {
      "cell_type": "code",
      "execution_count": null,
      "metadata": {
        "colab": {
          "base_uri": "https://localhost:8080/"
        },
        "id": "UrheW0KDJvPa",
        "outputId": "7be8724f-8b58-4f77-cb9e-c39292003da8"
      },
      "outputs": [
        {
          "output_type": "stream",
          "name": "stdout",
          "text": [
            "Looking in indexes: https://pypi.org/simple, https://us-python.pkg.dev/colab-wheels/public/simple/\n",
            "Requirement already satisfied: requests in /usr/local/lib/python3.10/dist-packages (2.27.1)\n",
            "Requirement already satisfied: urllib3<1.27,>=1.21.1 in /usr/local/lib/python3.10/dist-packages (from requests) (1.26.15)\n",
            "Requirement already satisfied: certifi>=2017.4.17 in /usr/local/lib/python3.10/dist-packages (from requests) (2022.12.7)\n",
            "Requirement already satisfied: charset-normalizer~=2.0.0 in /usr/local/lib/python3.10/dist-packages (from requests) (2.0.12)\n",
            "Requirement already satisfied: idna<4,>=2.5 in /usr/local/lib/python3.10/dist-packages (from requests) (3.4)\n",
            "Looking in indexes: https://pypi.org/simple, https://us-python.pkg.dev/colab-wheels/public/simple/\n",
            "Requirement already satisfied: beautifulsoup4 in /usr/local/lib/python3.10/dist-packages (4.11.2)\n",
            "Requirement already satisfied: soupsieve>1.2 in /usr/local/lib/python3.10/dist-packages (from beautifulsoup4) (2.4.1)\n",
            "Looking in indexes: https://pypi.org/simple, https://us-python.pkg.dev/colab-wheels/public/simple/\n",
            "Collecting faker\n",
            "  Downloading Faker-18.10.1-py3-none-any.whl (1.7 MB)\n",
            "\u001b[2K     \u001b[90m━━━━━━━━━━━━━━━━━━━━━━━━━━━━━━━━━━━━━━━━\u001b[0m \u001b[32m1.7/1.7 MB\u001b[0m \u001b[31m64.9 MB/s\u001b[0m eta \u001b[36m0:00:00\u001b[0m\n",
            "\u001b[?25hRequirement already satisfied: python-dateutil>=2.4 in /usr/local/lib/python3.10/dist-packages (from faker) (2.8.2)\n",
            "Requirement already satisfied: six>=1.5 in /usr/local/lib/python3.10/dist-packages (from python-dateutil>=2.4->faker) (1.16.0)\n",
            "Installing collected packages: faker\n",
            "Successfully installed faker-18.10.1\n",
            "Looking in indexes: https://pypi.org/simple, https://us-python.pkg.dev/colab-wheels/public/simple/\n",
            "Requirement already satisfied: nest-asyncio in /usr/local/lib/python3.10/dist-packages (1.5.6)\n",
            "Get:1 https://cloud.r-project.org/bin/linux/ubuntu focal-cran40/ InRelease [3,622 B]\n",
            "Hit:2 https://developer.download.nvidia.com/compute/cuda/repos/ubuntu2004/x86_64  InRelease\n",
            "Get:3 https://cloud.r-project.org/bin/linux/ubuntu focal-cran40/ Packages [78.0 kB]\n",
            "Get:4 http://security.ubuntu.com/ubuntu focal-security InRelease [114 kB]\n",
            "Get:5 http://ppa.launchpad.net/c2d4u.team/c2d4u4.0+/ubuntu focal InRelease [18.1 kB]\n",
            "Hit:6 http://archive.ubuntu.com/ubuntu focal InRelease\n",
            "Get:7 http://archive.ubuntu.com/ubuntu focal-updates InRelease [114 kB]\n",
            "Hit:8 http://ppa.launchpad.net/cran/libgit2/ubuntu focal InRelease\n",
            "Get:9 http://security.ubuntu.com/ubuntu focal-security/main amd64 Packages [2,773 kB]\n",
            "Hit:10 http://ppa.launchpad.net/deadsnakes/ppa/ubuntu focal InRelease\n",
            "Get:11 http://archive.ubuntu.com/ubuntu focal-backports InRelease [108 kB]\n",
            "Hit:12 http://ppa.launchpad.net/graphics-drivers/ppa/ubuntu focal InRelease\n",
            "Get:13 http://archive.ubuntu.com/ubuntu focal-updates/universe amd64 Packages [1,351 kB]\n",
            "Hit:14 http://ppa.launchpad.net/ubuntugis/ppa/ubuntu focal InRelease\n",
            "Get:15 http://ppa.launchpad.net/c2d4u.team/c2d4u4.0+/ubuntu focal/main Sources [2,589 kB]\n",
            "Get:16 http://archive.ubuntu.com/ubuntu focal-updates/main amd64 Packages [3,252 kB]\n",
            "Get:17 http://ppa.launchpad.net/c2d4u.team/c2d4u4.0+/ubuntu focal/main amd64 Packages [1,222 kB]\n",
            "Fetched 11.6 MB in 5s (2,240 kB/s)\n",
            "Reading package lists... Done\n"
          ]
        }
      ],
      "source": [
        "!pip install requests\n",
        "!pip install beautifulsoup4\n",
        "!pip install faker\n",
        "!pip install nest-asyncio\n",
        "!apt-get update # to update ubuntu to correctly run apt install"
      ]
    },
    {
      "cell_type": "code",
      "execution_count": null,
      "metadata": {
        "colab": {
          "base_uri": "https://localhost:8080/"
        },
        "id": "ZZ_voHoGJzPD",
        "outputId": "00e95a8e-bdc1-4c01-d9e3-01da7c126815"
      },
      "outputs": [
        {
          "output_type": "stream",
          "name": "stdout",
          "text": [
            "Looking in indexes: https://pypi.org/simple, https://us-python.pkg.dev/colab-wheels/public/simple/\n",
            "Collecting playwright\n",
            "  Downloading playwright-1.34.0-py3-none-manylinux1_x86_64.whl (35.3 MB)\n",
            "\u001b[2K     \u001b[90m━━━━━━━━━━━━━━━━━━━━━━━━━━━━━━━━━━━━━━━━\u001b[0m \u001b[32m35.3/35.3 MB\u001b[0m \u001b[31m35.0 MB/s\u001b[0m eta \u001b[36m0:00:00\u001b[0m\n",
            "\u001b[?25hRequirement already satisfied: greenlet==2.0.2 in /usr/local/lib/python3.10/dist-packages (from playwright) (2.0.2)\n",
            "Collecting pyee==9.0.4 (from playwright)\n",
            "  Downloading pyee-9.0.4-py2.py3-none-any.whl (14 kB)\n",
            "Requirement already satisfied: typing-extensions in /usr/local/lib/python3.10/dist-packages (from pyee==9.0.4->playwright) (4.5.0)\n",
            "Installing collected packages: pyee, playwright\n",
            "Successfully installed playwright-1.34.0 pyee-9.0.4\n",
            "Downloading Chromium 114.0.5735.35 (playwright build v1064)\u001b[2m from https://playwright.azureedge.net/builds/chromium/1064/chromium-linux.zip\u001b[22m\n",
            "\u001b[1G145.2 Mb [] 0% 0.0s\u001b[0K\u001b[1G145.2 Mb [] 0% 3.2s\u001b[0K\u001b[1G145.2 Mb [] 1% 1.8s\u001b[0K\u001b[1G145.2 Mb [] 2% 1.9s\u001b[0K\u001b[1G145.2 Mb [] 3% 1.8s\u001b[0K\u001b[1G145.2 Mb [] 4% 1.8s\u001b[0K\u001b[1G145.2 Mb [] 5% 1.7s\u001b[0K\u001b[1G145.2 Mb [] 6% 1.5s\u001b[0K\u001b[1G145.2 Mb [] 8% 1.5s\u001b[0K\u001b[1G145.2 Mb [] 9% 1.4s\u001b[0K\u001b[1G145.2 Mb [] 10% 1.4s\u001b[0K\u001b[1G145.2 Mb [] 12% 1.3s\u001b[0K\u001b[1G145.2 Mb [] 13% 1.2s\u001b[0K\u001b[1G145.2 Mb [] 15% 1.2s\u001b[0K\u001b[1G145.2 Mb [] 17% 1.1s\u001b[0K\u001b[1G145.2 Mb [] 17% 1.2s\u001b[0K\u001b[1G145.2 Mb [] 19% 1.1s\u001b[0K\u001b[1G145.2 Mb [] 20% 1.1s\u001b[0K\u001b[1G145.2 Mb [] 22% 1.1s\u001b[0K\u001b[1G145.2 Mb [] 23% 1.1s\u001b[0K\u001b[1G145.2 Mb [] 25% 1.0s\u001b[0K\u001b[1G145.2 Mb [] 27% 1.0s\u001b[0K\u001b[1G145.2 Mb [] 28% 0.9s\u001b[0K\u001b[1G145.2 Mb [] 29% 0.9s\u001b[0K\u001b[1G145.2 Mb [] 31% 0.9s\u001b[0K\u001b[1G145.2 Mb [] 32% 0.9s\u001b[0K\u001b[1G145.2 Mb [] 33% 0.9s\u001b[0K\u001b[1G145.2 Mb [] 34% 0.8s\u001b[0K\u001b[1G145.2 Mb [] 36% 0.8s\u001b[0K\u001b[1G145.2 Mb [] 37% 0.8s\u001b[0K\u001b[1G145.2 Mb [] 38% 0.8s\u001b[0K\u001b[1G145.2 Mb [] 41% 0.7s\u001b[0K\u001b[1G145.2 Mb [] 43% 0.7s\u001b[0K\u001b[1G145.2 Mb [] 44% 0.7s\u001b[0K\u001b[1G145.2 Mb [] 47% 0.6s\u001b[0K\u001b[1G145.2 Mb [] 48% 0.6s\u001b[0K\u001b[1G145.2 Mb [] 50% 0.6s\u001b[0K\u001b[1G145.2 Mb [] 52% 0.6s\u001b[0K\u001b[1G145.2 Mb [] 54% 0.5s\u001b[0K\u001b[1G145.2 Mb [] 56% 0.5s\u001b[0K\u001b[1G145.2 Mb [] 58% 0.5s\u001b[0K\u001b[1G145.2 Mb [] 61% 0.4s\u001b[0K\u001b[1G145.2 Mb [] 63% 0.4s\u001b[0K\u001b[1G145.2 Mb [] 65% 0.4s\u001b[0K\u001b[1G145.2 Mb [] 67% 0.3s\u001b[0K\u001b[1G145.2 Mb [] 69% 0.3s\u001b[0K\u001b[1G145.2 Mb [] 70% 0.3s\u001b[0K\u001b[1G145.2 Mb [] 72% 0.3s\u001b[0K\u001b[1G145.2 Mb [] 74% 0.3s\u001b[0K\u001b[1G145.2 Mb [] 77% 0.2s\u001b[0K\u001b[1G145.2 Mb [] 79% 0.2s\u001b[0K\u001b[1G145.2 Mb [] 80% 0.2s\u001b[0K\u001b[1G145.2 Mb [] 82% 0.2s\u001b[0K\u001b[1G145.2 Mb [] 84% 0.2s\u001b[0K\u001b[1G145.2 Mb [] 86% 0.1s\u001b[0K\u001b[1G145.2 Mb [] 88% 0.1s\u001b[0K\u001b[1G145.2 Mb [] 90% 0.1s\u001b[0K\u001b[1G145.2 Mb [] 92% 0.1s\u001b[0K\u001b[1G145.2 Mb [] 94% 0.1s\u001b[0K\u001b[1G145.2 Mb [] 96% 0.0s\u001b[0K\u001b[1G145.2 Mb [] 98% 0.0s\u001b[0K\u001b[1G145.2 Mb [] 100% 0.0s\u001b[0K\n",
            "Chromium 114.0.5735.35 (playwright build v1064) downloaded to /root/.cache/ms-playwright/chromium-1064\n",
            "Downloading FFMPEG playwright build v1009\u001b[2m from https://playwright.azureedge.net/builds/ffmpeg/1009/ffmpeg-linux.zip\u001b[22m\n",
            "\u001b[1G2.6 Mb [] 0% 0.2s\u001b[0K\u001b[1G2.6 Mb [] 43% 0.0s\u001b[0K\u001b[1G2.6 Mb [] 100% 0.0s\u001b[0K\n",
            "FFMPEG playwright build v1009 downloaded to /root/.cache/ms-playwright/ffmpeg-1009\n",
            "Downloading Firefox 113.0 (playwright build v1408)\u001b[2m from https://playwright.azureedge.net/builds/firefox/1408/firefox-ubuntu-20.04.zip\u001b[22m\n",
            "\u001b[1G78.7 Mb [] 0% 0.0s\u001b[0K\u001b[1G78.7 Mb [] 1% 1.3s\u001b[0K\u001b[1G78.7 Mb [] 3% 1.0s\u001b[0K\u001b[1G78.7 Mb [] 5% 0.8s\u001b[0K\u001b[1G78.7 Mb [] 7% 0.8s\u001b[0K\u001b[1G78.7 Mb [] 8% 0.9s\u001b[0K\u001b[1G78.7 Mb [] 9% 0.9s\u001b[0K\u001b[1G78.7 Mb [] 13% 0.7s\u001b[0K\u001b[1G78.7 Mb [] 16% 0.7s\u001b[0K\u001b[1G78.7 Mb [] 17% 0.7s\u001b[0K\u001b[1G78.7 Mb [] 21% 0.6s\u001b[0K\u001b[1G78.7 Mb [] 25% 0.5s\u001b[0K\u001b[1G78.7 Mb [] 26% 0.5s\u001b[0K\u001b[1G78.7 Mb [] 30% 0.5s\u001b[0K\u001b[1G78.7 Mb [] 32% 0.5s\u001b[0K\u001b[1G78.7 Mb [] 34% 0.5s\u001b[0K\u001b[1G78.7 Mb [] 37% 0.4s\u001b[0K\u001b[1G78.7 Mb [] 40% 0.4s\u001b[0K\u001b[1G78.7 Mb [] 42% 0.4s\u001b[0K\u001b[1G78.7 Mb [] 45% 0.4s\u001b[0K\u001b[1G78.7 Mb [] 48% 0.3s\u001b[0K\u001b[1G78.7 Mb [] 50% 0.3s\u001b[0K\u001b[1G78.7 Mb [] 53% 0.3s\u001b[0K\u001b[1G78.7 Mb [] 57% 0.3s\u001b[0K\u001b[1G78.7 Mb [] 60% 0.3s\u001b[0K\u001b[1G78.7 Mb [] 64% 0.2s\u001b[0K\u001b[1G78.7 Mb [] 66% 0.2s\u001b[0K\u001b[1G78.7 Mb [] 69% 0.2s\u001b[0K\u001b[1G78.7 Mb [] 70% 0.2s\u001b[0K\u001b[1G78.7 Mb [] 72% 0.2s\u001b[0K\u001b[1G78.7 Mb [] 75% 0.2s\u001b[0K\u001b[1G78.7 Mb [] 77% 0.2s\u001b[0K\u001b[1G78.7 Mb [] 79% 0.1s\u001b[0K\u001b[1G78.7 Mb [] 83% 0.1s\u001b[0K\u001b[1G78.7 Mb [] 86% 0.1s\u001b[0K\u001b[1G78.7 Mb [] 88% 0.1s\u001b[0K\u001b[1G78.7 Mb [] 91% 0.1s\u001b[0K\u001b[1G78.7 Mb [] 95% 0.0s\u001b[0K\u001b[1G78.7 Mb [] 100% 0.0s\u001b[0K\n",
            "Firefox 113.0 (playwright build v1408) downloaded to /root/.cache/ms-playwright/firefox-1408\n",
            "Downloading Webkit 16.4 (playwright build v1848)\u001b[2m from https://playwright.azureedge.net/builds/webkit/1848/webkit-ubuntu-20.04.zip\u001b[22m\n",
            "\u001b[1G114.2 Mb [] 0% 0.0s\u001b[0K\u001b[1G114.2 Mb [] 0% 2.6s\u001b[0K\u001b[1G114.2 Mb [] 2% 1.5s\u001b[0K\u001b[1G114.2 Mb [] 3% 1.3s\u001b[0K\u001b[1G114.2 Mb [] 4% 1.3s\u001b[0K\u001b[1G114.2 Mb [] 5% 1.3s\u001b[0K\u001b[1G114.2 Mb [] 7% 1.2s\u001b[0K\u001b[1G114.2 Mb [] 8% 1.1s\u001b[0K\u001b[1G114.2 Mb [] 11% 1.0s\u001b[0K\u001b[1G114.2 Mb [] 12% 1.1s\u001b[0K\u001b[1G114.2 Mb [] 15% 0.9s\u001b[0K\u001b[1G114.2 Mb [] 17% 0.9s\u001b[0K\u001b[1G114.2 Mb [] 19% 0.8s\u001b[0K\u001b[1G114.2 Mb [] 21% 0.8s\u001b[0K\u001b[1G114.2 Mb [] 23% 0.8s\u001b[0K\u001b[1G114.2 Mb [] 25% 0.7s\u001b[0K\u001b[1G114.2 Mb [] 26% 0.7s\u001b[0K\u001b[1G114.2 Mb [] 27% 0.7s\u001b[0K\u001b[1G114.2 Mb [] 29% 0.7s\u001b[0K\u001b[1G114.2 Mb [] 31% 0.7s\u001b[0K\u001b[1G114.2 Mb [] 33% 0.7s\u001b[0K\u001b[1G114.2 Mb [] 35% 0.6s\u001b[0K\u001b[1G114.2 Mb [] 37% 0.6s\u001b[0K\u001b[1G114.2 Mb [] 39% 0.6s\u001b[0K\u001b[1G114.2 Mb [] 41% 0.6s\u001b[0K\u001b[1G114.2 Mb [] 42% 0.6s\u001b[0K\u001b[1G114.2 Mb [] 44% 0.5s\u001b[0K\u001b[1G114.2 Mb [] 46% 0.5s\u001b[0K\u001b[1G114.2 Mb [] 49% 0.5s\u001b[0K\u001b[1G114.2 Mb [] 50% 0.5s\u001b[0K\u001b[1G114.2 Mb [] 53% 0.4s\u001b[0K\u001b[1G114.2 Mb [] 56% 0.4s\u001b[0K\u001b[1G114.2 Mb [] 58% 0.4s\u001b[0K\u001b[1G114.2 Mb [] 61% 0.3s\u001b[0K\u001b[1G114.2 Mb [] 64% 0.3s\u001b[0K\u001b[1G114.2 Mb [] 66% 0.3s\u001b[0K\u001b[1G114.2 Mb [] 69% 0.3s\u001b[0K\u001b[1G114.2 Mb [] 72% 0.2s\u001b[0K\u001b[1G114.2 Mb [] 75% 0.2s\u001b[0K\u001b[1G114.2 Mb [] 78% 0.2s\u001b[0K\u001b[1G114.2 Mb [] 80% 0.2s\u001b[0K\u001b[1G114.2 Mb [] 82% 0.1s\u001b[0K\u001b[1G114.2 Mb [] 85% 0.1s\u001b[0K\u001b[1G114.2 Mb [] 86% 0.1s\u001b[0K\u001b[1G114.2 Mb [] 89% 0.1s\u001b[0K\u001b[1G114.2 Mb [] 91% 0.1s\u001b[0K\u001b[1G114.2 Mb [] 94% 0.0s\u001b[0K\u001b[1G114.2 Mb [] 97% 0.0s\u001b[0K\u001b[1G114.2 Mb [] 100% 0.0s\u001b[0K\n",
            "Webkit 16.4 (playwright build v1848) downloaded to /root/.cache/ms-playwright/webkit-1848\n"
          ]
        }
      ],
      "source": [
        "!pip install playwright\n",
        "!playwright install\n"
      ]
    },
    {
      "cell_type": "code",
      "execution_count": null,
      "metadata": {
        "colab": {
          "base_uri": "https://localhost:8080/"
        },
        "id": "kohiWRwEJoIp",
        "outputId": "c2cbd66b-202a-4f37-9239-a4e27273c378"
      },
      "outputs": [
        {
          "output_type": "stream",
          "name": "stdout",
          "text": [
            "Enter number of Users: 10\n",
            "Enter meeting code (No Space): 84374433260\n",
            "Enter Password (No Space): alprose\n",
            "[Thread0] started!\n",
            "[Thread1] started!\n",
            "[Thread2] started!\n",
            "[Thread3] started!\n",
            "[Thread4] started!\n",
            "[Thread5] started!\n",
            "[Thread6] started!\n",
            "[Thread7] started!\n",
            "[Thread8] started!\n",
            "[Thread9] started!\n"
          ]
        }
      ],
      "source": [
        "import threading\n",
        "import asyncio\n",
        "from concurrent.futures import ThreadPoolExecutor\n",
        "from faker import Faker\n",
        "from playwright.async_api import async_playwright\n",
        "import nest_asyncio\n",
        "\n",
        "nest_asyncio.apply()\n",
        "fake = Faker('en_IN')\n",
        "MUTEX = threading.Lock()\n",
        "\n",
        "def sync_print(text):\n",
        "    with MUTEX:\n",
        "        print(text)\n",
        "\n",
        "async def start(name, user, wait_time, meetingcode, passcode):\n",
        "    sync_print(f\"{name} started!\")\n",
        "\n",
        "    async with async_playwright() as p:\n",
        "        browser = await p.chromium.launch(headless=True, args=['--use-fake-device-for-media-stream', '--use-fake-ui-for-media-stream'])\n",
        "        context = await browser.new_context(permissions=['microphone'])\n",
        "        page = await context.new_page()\n",
        "        await page.goto(f'https://zoom.us/wc/join/{meetingcode}', timeout=200000)\n",
        "\n",
        "        try:\n",
        "            await page.click('//button[@id=\"onetrust-accept-btn-handler\"]', timeout=5000)\n",
        "        except:\n",
        "            pass\n",
        "        try:\n",
        "            await page.click('//button[@id=\"wc_agree1\"]', timeout=50000)\n",
        "        except:\n",
        "            pass\n",
        "\n",
        "        await page.wait_for_selector('input[type=\"text\"]', timeout=200000)\n",
        "        await page.fill('input[type=\"text\"]', user)\n",
        "        await page.fill('input[type=\"password\"]', passcode)\n",
        "        join_button = await page.wait_for_selector('button.preview-join-button')\n",
        "        await join_button.click()\n",
        "\n",
        "        try:\n",
        "            # Increase timeout if still mic missing on some users\n",
        "            query = '//button[text()=\"Join Audio by Computer\"]'\n",
        "            mic_button_locator = await page.wait_for_selector(query, timeout=200000)\n",
        "            await mic_button_locator.wait_for_element_state('stable', timeout=200000)\n",
        "            await mic_button_locator.evaluate_handle('node => node.click()')\n",
        "            sync_print(f\"{name} mic aayenge.\")\n",
        "\n",
        "        except Exception as e:\n",
        "            print(e)\n",
        "            sync_print(f\"{name} mic nhi aayenge.\")\n",
        "\n",
        "        sync_print(f\"{name} sleep for {wait_time} seconds ...\")\n",
        "        await asyncio.sleep(wait_time)\n",
        "        sync_print(f\"{name} ended!\")\n",
        "\n",
        "        await browser.close()\n",
        "\n",
        "async def main():\n",
        "    number = int(input(\"Enter number of Users: \"))\n",
        "    meetingcode = input(\"Enter meeting code (No Space): \")\n",
        "    passcode = input(\"Enter Password (No Space): \")\n",
        "\n",
        "    sec = 60\n",
        "    wait_time = sec * 60\n",
        "\n",
        "    with ThreadPoolExecutor(max_workers=number) as executor:\n",
        "        loop = asyncio.get_event_loop()\n",
        "        tasks = []\n",
        "        for i in range(number):\n",
        "            try:\n",
        "                user = fake.name()\n",
        "            except IndexError:\n",
        "                break\n",
        "            task = loop.create_task(start(f'[Thread{i}]', user, wait_time, meetingcode, passcode))\n",
        "            tasks.append(task)\n",
        "        await asyncio.gather(*tasks)\n",
        "\n",
        "if __name__ == '__main__':\n",
        "    asyncio.run(main())\n"
      ]
    }
  ],
  "metadata": {
    "colab": {
      "provenance": [],
      "gpuType": "T4"
    },
    "kernelspec": {
      "display_name": "Python 3",
      "name": "python3"
    },
    "accelerator": "GPU"
  },
  "nbformat": 4,
  "nbformat_minor": 0
}